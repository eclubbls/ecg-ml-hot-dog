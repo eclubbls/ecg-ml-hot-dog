{
 "cells": [
  {
   "attachments": {},
   "cell_type": "markdown",
   "metadata": {},
   "source": [
    "ML Lesson"
   ]
  },
  {
   "attachments": {},
   "cell_type": "markdown",
   "metadata": {},
   "source": [
    "Variables"
   ]
  },
  {
   "cell_type": "code",
   "execution_count": 3,
   "metadata": {},
   "outputs": [],
   "source": [
    "'''\n",
    "Syntax:\n",
    "variable_name = value\n",
    "\n",
    "var1, var2, var3 = val1, val2, val3\n",
    "var1 = var2 = value\n",
    "...\n",
    "Example:\n",
    "'''\n",
    "name = 'Phineas'\n",
    "age = 16\n",
    "classes = ['Physics', 'Math', ...]\n",
    "\n",
    "'''\n",
    "Variables can have different types\n",
    "Common types are strings, integers, floats, lists, dictionaries, tuples, generators, etc.\n",
    "'''\n",
    "example_string = 'lol'\n",
    "another_string = \"lmao\"\n",
    "fstring = f'{name} has {len(classes)} classes!'\n",
    "\n",
    "ex_integer = 15\n",
    "ex_float = -3.5\n",
    "ex_list = [True, 13, 'ABC', (1, 2)]\n",
    "ex_dict = {1:'Physics', 2:'Math', 'Lunch':(3, 1, 2)}\n",
    "ex_tuple = (4, 5)\n",
    "ex_generator = range(15)"
   ]
  },
  {
   "attachments": {},
   "cell_type": "markdown",
   "metadata": {},
   "source": [
    "Operators"
   ]
  },
  {
   "cell_type": "code",
   "execution_count": 5,
   "metadata": {},
   "outputs": [],
   "source": [
    "'''\n",
    "Addition, subtraction, mult, div: +, -, *, /\n",
    "Index/slice of a list/iterable: list_name[start:end:step], some are optional\n",
    "Power: a ** b\n",
    "floor divide: a // b\n",
    "assignments operators: *=, +=, -=, //=, etc.\n",
    "Bitwise operators (uncommon): ^, &, |, !, etc.\n",
    "keywords: and, not, or, in, as, with, if, else, for, pass, continue, break, return, etc.\n",
    "'''\n",
    "a = 1 + 2\n",
    "a *= 3\n",
    "a = 5 // a\n",
    "a = [i for i in range(10)]\n",
    "a = a[3::2]\n",
    "if a[0] == 1:\n",
    "    # do something\n",
    "    # ^this is a comment (and so is the triple-quoted text)\n",
    "    pass"
   ]
  },
  {
   "attachments": {},
   "cell_type": "markdown",
   "metadata": {},
   "source": [
    "Functions"
   ]
  },
  {
   "cell_type": "code",
   "execution_count": 2,
   "metadata": {},
   "outputs": [
    {
     "name": "stdout",
     "output_type": "stream",
     "text": [
      "heheheha\n",
      "heheheha\n",
      "heheheha\n",
      "heheheha\n",
      "heheheha\n",
      "heheheha\n",
      "heheheha\n",
      "heheheha\n",
      "heheheha\n",
      "heheheha\n",
      "heheheha\n",
      "heheheha\n",
      "heheheha\n",
      "heheheha\n",
      "heheheha\n"
     ]
    }
   ],
   "source": [
    "'''\n",
    "Syntax:\n",
    "def function_name(inputs...):\n",
    "    pass\n",
    "    \n",
    "function_name(inputs...)\n",
    "'''\n",
    "\n",
    "# defining function\n",
    "def square(x):\n",
    "    return x ** 2\n",
    "\n",
    "# calling function\n",
    "a = square(15)\n",
    "# 255^\n",
    "\n",
    "# Can treat functions like variables\n",
    "def repeat(func, inputs, times):\n",
    "    for _ in range(times):\n",
    "        func(*inputs)\n",
    "        # calls `func`, `times` times with `inputs`\n",
    "        # the * operator unpacks the inputs, since they are probably a list and func might take in multiple inputs\n",
    "\n",
    "def lol(s):\n",
    "    print(s) # prints whatever `s` is\n",
    "\n",
    "repeat(lol, ['heheheha'], 15)"
   ]
  },
  {
   "attachments": {},
   "cell_type": "markdown",
   "metadata": {},
   "source": [
    "Classes/Objects"
   ]
  },
  {
   "cell_type": "code",
   "execution_count": 9,
   "metadata": {},
   "outputs": [
    {
     "name": "stdout",
     "output_type": "stream",
     "text": [
      "2, 0, 48, 17, 5, 21, 6, 14, 11, 39, 42, 1, 10, 37, 19, 26, 24, 28, 47, 22, 35, 8, 38, 9, 29, 16, 43, 25, 30, 41, 23, 45, 34, 46, 18, 31, 13, 51, 3, 40, 15, 33, 44, 20, 12, 50, 7, 49, 4, 27, 32, 36\n",
      "0, 1, 2, 3, 4, 5, 6, 7, 8, 9, 10, 11, 12, 13, 14, 15, 16, 17, 18, 19, 20, 21, 22, 23, 24, 25, 26, 27, 28, 29, 30, 31, 32, 33, 34, 35, 36, 37, 38, 39, 40, 41, 42, 43, 44, 45, 46, 47, 48, 49, 50, 51\n"
     ]
    }
   ],
   "source": [
    "'''\n",
    "You can do Object Oriented Programming (OOP) in python\n",
    "this means you can pretty much define your own types\n",
    "'''\n",
    "import random\n",
    "\n",
    "class DeckOfCards:\n",
    "    # Constructor method always named `__init__()`\n",
    "    # Automatically called whenever a new instance of this class is created (technically called with the `()` after the class name below)\n",
    "    def __init__(self, shuffle):\n",
    "        self.cards = [str(i) for i in range(52)]\n",
    "        \n",
    "        if shuffle:\n",
    "            self.shuffled = True\n",
    "            random.shuffle(self.cards)\n",
    "        else:\n",
    "            self.shuffled = False\n",
    "            \n",
    "    def print_cards(self):\n",
    "        print(', '.join(self.cards))\n",
    "        \n",
    "cards1 = DeckOfCards(True)\n",
    "cards2 = DeckOfCards(False)\n",
    "\n",
    "cards1.print_cards()\n",
    "cards2.print_cards()"
   ]
  },
  {
   "attachments": {},
   "cell_type": "markdown",
   "metadata": {},
   "source": [
    "Libraries"
   ]
  },
  {
   "cell_type": "code",
   "execution_count": null,
   "metadata": {},
   "outputs": [],
   "source": [
    "'''\n",
    "You can import libraries (like random) into your program to do things for you\n",
    "'''\n",
    "\n",
    "import time\n",
    "\n",
    "print('started')\n",
    "time.sleep(5)\n",
    "print('ended 5 seconds later')"
   ]
  }
 ],
 "metadata": {
  "kernelspec": {
   "display_name": "Python 3",
   "language": "python",
   "name": "python3"
  },
  "language_info": {
   "codemirror_mode": {
    "name": "ipython",
    "version": 3
   },
   "file_extension": ".py",
   "mimetype": "text/x-python",
   "name": "python",
   "nbconvert_exporter": "python",
   "pygments_lexer": "ipython3",
   "version": "3.10.0"
  },
  "orig_nbformat": 4,
  "vscode": {
   "interpreter": {
    "hash": "aee8b7b246df8f9039afb4144a1f6fd8d2ca17a180786b69acc140d282b71a49"
   }
  }
 },
 "nbformat": 4,
 "nbformat_minor": 2
}
