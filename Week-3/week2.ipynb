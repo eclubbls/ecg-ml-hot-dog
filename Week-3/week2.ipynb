{
 "cells": [
  {
   "cell_type": "code",
   "execution_count": 1,
   "metadata": {
    "collapsed": true
   },
   "outputs": [],
   "source": [
    "import tensorflow as tf\n",
    "import matplotlib.pyplot as plt\n",
    "import numpy as np\n",
    "import PIL\n",
    "import os"
   ]
  },
  {
   "cell_type": "markdown",
   "source": [
    "# Loading and Cleaning the data"
   ],
   "metadata": {
    "collapsed": false
   }
  },
  {
   "cell_type": "code",
   "execution_count": 2,
   "outputs": [],
   "source": [
    "files = \"/Users/Tim/Downloads/hotdog-nothotdog/\""
   ],
   "metadata": {
    "collapsed": false
   }
  },
  {
   "cell_type": "code",
   "execution_count": 3,
   "outputs": [],
   "source": [
    "train_dir = os.path.join(files, 'train')\n",
    "validation_dir = os.path.join(files, 'test')"
   ],
   "metadata": {
    "collapsed": false
   }
  },
  {
   "cell_type": "code",
   "execution_count": 18,
   "outputs": [
    {
     "name": "stdout",
     "output_type": "stream",
     "text": [
      "Found 3000 files belonging to 2 classes.\n",
      "Using 2400 files for training.\n"
     ]
    }
   ],
   "source": [
    "train_ds = tf.keras.preprocessing.image_dataset_from_directory(\n",
    "    train_dir,\n",
    "    image_size=(224, 224),\n",
    "    batch_size=32,\n",
    "    shuffle=True,\n",
    "    seed=123,\n",
    "    validation_split=0.2,\n",
    "    subset=\"training\"\n",
    ")"
   ],
   "metadata": {
    "collapsed": false
   }
  },
  {
   "cell_type": "code",
   "execution_count": 19,
   "outputs": [
    {
     "name": "stdout",
     "output_type": "stream",
     "text": [
      "Found 3000 files belonging to 2 classes.\n",
      "Using 600 files for validation.\n"
     ]
    }
   ],
   "source": [
    "val_ds = tf.keras.preprocessing.image_dataset_from_directory(\n",
    "    train_dir,\n",
    "    image_size=(224, 224),\n",
    "    batch_size=32,\n",
    "    shuffle=True,\n",
    "    seed=123,\n",
    "    validation_split=0.2,\n",
    "    subset=\"validation\"\n",
    ")"
   ],
   "metadata": {
    "collapsed": false
   }
  },
  {
   "cell_type": "code",
   "execution_count": 20,
   "outputs": [],
   "source": [
    "class_names = train_ds.class_names"
   ],
   "metadata": {
    "collapsed": false
   }
  },
  {
   "cell_type": "code",
   "execution_count": 21,
   "outputs": [
    {
     "data": {
      "text/plain": "['hotdog', 'nothotdog']"
     },
     "execution_count": 21,
     "metadata": {},
     "output_type": "execute_result"
    }
   ],
   "source": [
    "class_names"
   ],
   "metadata": {
    "collapsed": false
   }
  },
  {
   "cell_type": "code",
   "execution_count": 22,
   "outputs": [],
   "source": [
    "AUTOTUNE = tf.data.AUTOTUNE\n",
    "train_ds = train_ds.cache().prefetch(buffer_size=AUTOTUNE)\n",
    "val_ds = val_ds.cache().prefetch(buffer_size=AUTOTUNE)"
   ],
   "metadata": {
    "collapsed": false
   }
  },
  {
   "cell_type": "code",
   "execution_count": 23,
   "outputs": [],
   "source": [
    "nomralization_layer = tf.keras.layers.experimental.preprocessing.Rescaling(1./255)"
   ],
   "metadata": {
    "collapsed": false
   }
  },
  {
   "cell_type": "code",
   "execution_count": 24,
   "outputs": [
    {
     "name": "stderr",
     "output_type": "stream",
     "text": [
      "2023-04-14 14:06:59.775836: W tensorflow/core/kernels/data/cache_dataset_ops.cc:856] The calling iterator did not fully read the dataset being cached. In order to avoid unexpected truncation of the dataset, the partially cached contents of the dataset  will be discarded. This can happen if you have an input pipeline similar to `dataset.cache().take(k).repeat()`. You should use `dataset.take(k).cache().repeat()` instead.\n"
     ]
    }
   ],
   "source": [
    "normalized_ds = train_ds.map(lambda x, y: (nomralization_layer(x), y))\n",
    "normalized_val = val_ds.map(lambda x, y: (nomralization_layer(x), y))\n",
    "image_batch, labels_batch = next(iter(normalized_ds))"
   ],
   "metadata": {
    "collapsed": false
   }
  },
  {
   "cell_type": "code",
   "execution_count": 25,
   "outputs": [],
   "source": [
    "num_classes = 2"
   ],
   "metadata": {
    "collapsed": false
   }
  },
  {
   "cell_type": "markdown",
   "source": [
    "# Building the model"
   ],
   "metadata": {
    "collapsed": false
   }
  },
  {
   "cell_type": "code",
   "execution_count": 64,
   "outputs": [],
   "source": [
    "model = tf.keras.Sequential([\n",
    "    tf.keras.layers.experimental.preprocessing.Rescaling(1./255, input_shape=(224, 224, 3)),\n",
    "    tf.keras.layers.Conv2D(16, 3, padding='same', activation='relu'),\n",
    "    tf.keras.layers.MaxPooling2D(),\n",
    "    tf.keras.layers.Conv2D(32, 3, padding='same', activation='relu'),\n",
    "    tf.keras.layers.Dropout(0.4),\n",
    "    tf.keras.layers.MaxPooling2D(),\n",
    "    tf.keras.layers.Conv2D(64, 3, padding='same', activation='relu'),\n",
    "    tf.keras.layers.MaxPooling2D(),\n",
    "    tf.keras.layers.Flatten(),\n",
    "    tf.keras.layers.Dense(128, activation='relu'),\n",
    "    tf.keras.layers.Dropout(0.8),\n",
    "    tf.keras.layers.Dense(1, activation=\"sigmoid\")\n",
    "])"
   ],
   "metadata": {
    "collapsed": false
   }
  },
  {
   "cell_type": "code",
   "execution_count": 58,
   "outputs": [
    {
     "name": "stdout",
     "output_type": "stream",
     "text": [
      "The tensorboard extension is already loaded. To reload it, use:\n",
      "  %reload_ext tensorboard\n"
     ]
    }
   ],
   "source": [
    "#import tensorboard\n",
    "%load_ext tensorboard\n",
    "import datetime\n",
    "\n",
    "log_dir = \"logs/fit/\" + datetime.datetime.now().strftime(\"%Y%m%d-%H%M%S\")\n",
    "tensorboard_callback = tf.keras.callbacks.TensorBoard(log_dir=log_dir, histogram_freq=1)\n"
   ],
   "metadata": {
    "collapsed": false
   }
  },
  {
   "cell_type": "code",
   "execution_count": 65,
   "outputs": [],
   "source": [
    "model.compile(optimizer='adam',\n",
    "              loss=tf.keras.losses.BinaryCrossentropy(from_logits=True),\n",
    "              metrics=['accuracy'])"
   ],
   "metadata": {
    "collapsed": false
   }
  },
  {
   "cell_type": "code",
   "execution_count": 67,
   "outputs": [
    {
     "name": "stdout",
     "output_type": "stream",
     "text": [
      "Epoch 1/50\n",
      "75/75 [==============================] - 3s 37ms/step - loss: 0.7293 - accuracy: 0.5079 - val_loss: 0.9916 - val_accuracy: 0.6683\n",
      "Epoch 2/50\n",
      "75/75 [==============================] - 3s 37ms/step - loss: 0.6982 - accuracy: 0.5067 - val_loss: 0.9720 - val_accuracy: 0.6650\n",
      "Epoch 3/50\n",
      "75/75 [==============================] - 3s 37ms/step - loss: 0.6952 - accuracy: 0.5158 - val_loss: 0.9733 - val_accuracy: 0.6667\n",
      "Epoch 4/50\n",
      "75/75 [==============================] - 3s 37ms/step - loss: 0.6939 - accuracy: 0.5204 - val_loss: 0.9736 - val_accuracy: 0.6667\n",
      "Epoch 5/50\n",
      "75/75 [==============================] - 3s 37ms/step - loss: 0.6934 - accuracy: 0.5279 - val_loss: 0.9712 - val_accuracy: 0.6667\n",
      "Epoch 6/50\n",
      "75/75 [==============================] - 3s 37ms/step - loss: 0.6931 - accuracy: 0.5279 - val_loss: 0.9703 - val_accuracy: 0.6667\n",
      "Epoch 7/50\n",
      "75/75 [==============================] - 3s 37ms/step - loss: 0.6929 - accuracy: 0.5283 - val_loss: 0.9708 - val_accuracy: 0.6667\n",
      "Epoch 8/50\n",
      "75/75 [==============================] - 3s 37ms/step - loss: 0.6927 - accuracy: 0.5312 - val_loss: 0.9691 - val_accuracy: 0.6667\n",
      "Epoch 9/50\n",
      "75/75 [==============================] - 3s 37ms/step - loss: 0.6926 - accuracy: 0.5300 - val_loss: 0.9695 - val_accuracy: 0.6667\n",
      "Epoch 10/50\n",
      "75/75 [==============================] - 3s 37ms/step - loss: 0.6925 - accuracy: 0.5283 - val_loss: 0.9679 - val_accuracy: 0.6650\n",
      "Epoch 11/50\n",
      "75/75 [==============================] - 3s 37ms/step - loss: 0.6924 - accuracy: 0.5279 - val_loss: 0.9682 - val_accuracy: 0.6633\n",
      "Epoch 12/50\n",
      "75/75 [==============================] - 3s 37ms/step - loss: 0.6923 - accuracy: 0.5288 - val_loss: 0.9646 - val_accuracy: 0.6633\n",
      "Epoch 13/50\n",
      "75/75 [==============================] - 3s 37ms/step - loss: 0.6920 - accuracy: 0.5250 - val_loss: 0.9966 - val_accuracy: 0.6650\n",
      "Epoch 14/50\n",
      "75/75 [==============================] - 3s 37ms/step - loss: 0.6938 - accuracy: 0.5179 - val_loss: 1.1060 - val_accuracy: 0.6500\n",
      "Epoch 15/50\n",
      "75/75 [==============================] - 3s 37ms/step - loss: 0.6922 - accuracy: 0.5250 - val_loss: 1.1214 - val_accuracy: 0.6433\n",
      "Epoch 16/50\n",
      "75/75 [==============================] - 3s 37ms/step - loss: 0.6921 - accuracy: 0.5258 - val_loss: 1.1189 - val_accuracy: 0.6433\n",
      "Epoch 17/50\n",
      "75/75 [==============================] - 3s 37ms/step - loss: 0.6920 - accuracy: 0.5267 - val_loss: 1.1340 - val_accuracy: 0.6400\n",
      "Epoch 18/50\n",
      "75/75 [==============================] - 3s 37ms/step - loss: 0.6924 - accuracy: 0.5267 - val_loss: 1.1511 - val_accuracy: 0.6367\n",
      "Epoch 19/50\n",
      "75/75 [==============================] - 3s 37ms/step - loss: 0.6921 - accuracy: 0.5221 - val_loss: 1.1585 - val_accuracy: 0.6367\n",
      "Epoch 20/50\n",
      "75/75 [==============================] - 3s 37ms/step - loss: 0.6917 - accuracy: 0.5213 - val_loss: 1.1619 - val_accuracy: 0.6367\n",
      "Epoch 21/50\n",
      "75/75 [==============================] - 3s 37ms/step - loss: 0.6917 - accuracy: 0.5263 - val_loss: 1.1428 - val_accuracy: 0.6367\n",
      "Epoch 22/50\n",
      "75/75 [==============================] - 3s 37ms/step - loss: 0.6916 - accuracy: 0.5246 - val_loss: 1.1419 - val_accuracy: 0.6367\n",
      "Epoch 23/50\n",
      "75/75 [==============================] - 3s 37ms/step - loss: 0.6915 - accuracy: 0.5254 - val_loss: 1.1428 - val_accuracy: 0.6367\n",
      "Epoch 24/50\n",
      "75/75 [==============================] - 3s 37ms/step - loss: 0.6914 - accuracy: 0.5263 - val_loss: 1.1328 - val_accuracy: 0.6400\n",
      "Epoch 25/50\n",
      "75/75 [==============================] - 3s 37ms/step - loss: 0.6917 - accuracy: 0.5271 - val_loss: 1.1494 - val_accuracy: 0.6367\n",
      "Epoch 26/50\n",
      "75/75 [==============================] - 3s 37ms/step - loss: 0.6914 - accuracy: 0.5258 - val_loss: 1.1463 - val_accuracy: 0.6383\n",
      "Epoch 27/50\n",
      "75/75 [==============================] - 3s 37ms/step - loss: 0.6913 - accuracy: 0.5217 - val_loss: 1.1429 - val_accuracy: 0.6400\n",
      "Epoch 28/50\n",
      "75/75 [==============================] - 3s 37ms/step - loss: 0.6912 - accuracy: 0.5208 - val_loss: 1.1408 - val_accuracy: 0.6417\n",
      "Epoch 29/50\n",
      "75/75 [==============================] - 3s 37ms/step - loss: 0.6911 - accuracy: 0.5229 - val_loss: 1.1454 - val_accuracy: 0.6400\n",
      "Epoch 30/50\n",
      "75/75 [==============================] - 3s 37ms/step - loss: 0.6911 - accuracy: 0.5213 - val_loss: 1.1422 - val_accuracy: 0.6417\n",
      "Epoch 31/50\n",
      "75/75 [==============================] - 3s 37ms/step - loss: 0.6912 - accuracy: 0.5275 - val_loss: 1.1145 - val_accuracy: 0.6433\n",
      "Epoch 32/50\n",
      "75/75 [==============================] - 3s 37ms/step - loss: 0.6910 - accuracy: 0.5250 - val_loss: 1.1044 - val_accuracy: 0.6400\n",
      "Epoch 33/50\n",
      "75/75 [==============================] - 3s 38ms/step - loss: 0.6910 - accuracy: 0.5221 - val_loss: 1.1068 - val_accuracy: 0.6400\n",
      "Epoch 34/50\n",
      "75/75 [==============================] - 3s 37ms/step - loss: 0.6908 - accuracy: 0.5242 - val_loss: 1.1106 - val_accuracy: 0.6400\n",
      "Epoch 35/50\n",
      "75/75 [==============================] - 3s 37ms/step - loss: 0.6906 - accuracy: 0.5246 - val_loss: 1.1144 - val_accuracy: 0.6400\n",
      "Epoch 36/50\n",
      "75/75 [==============================] - 3s 37ms/step - loss: 0.6907 - accuracy: 0.5308 - val_loss: 1.1195 - val_accuracy: 0.6400\n",
      "Epoch 37/50\n",
      "75/75 [==============================] - 3s 37ms/step - loss: 0.6908 - accuracy: 0.5275 - val_loss: 1.1344 - val_accuracy: 0.6383\n",
      "Epoch 38/50\n",
      "75/75 [==============================] - 3s 37ms/step - loss: 0.6906 - accuracy: 0.5300 - val_loss: 1.0921 - val_accuracy: 0.6400\n",
      "Epoch 39/50\n",
      "75/75 [==============================] - 3s 37ms/step - loss: 0.6906 - accuracy: 0.5233 - val_loss: 1.0497 - val_accuracy: 0.6433\n",
      "Epoch 40/50\n",
      "75/75 [==============================] - 3s 37ms/step - loss: 0.6907 - accuracy: 0.5213 - val_loss: 0.9678 - val_accuracy: 0.6350\n",
      "Epoch 41/50\n",
      "75/75 [==============================] - 3s 37ms/step - loss: 0.6904 - accuracy: 0.5342 - val_loss: 0.9590 - val_accuracy: 0.6400\n",
      "Epoch 42/50\n",
      "75/75 [==============================] - 3s 37ms/step - loss: 0.6899 - accuracy: 0.5342 - val_loss: 0.9320 - val_accuracy: 0.6450\n",
      "Epoch 43/50\n",
      "75/75 [==============================] - 3s 37ms/step - loss: 0.6893 - accuracy: 0.5367 - val_loss: 0.8677 - val_accuracy: 0.6633\n",
      "Epoch 44/50\n",
      "75/75 [==============================] - 3s 37ms/step - loss: 0.6919 - accuracy: 0.5283 - val_loss: 1.0002 - val_accuracy: 0.6283\n",
      "Epoch 45/50\n",
      "75/75 [==============================] - 3s 42ms/step - loss: 0.6898 - accuracy: 0.5342 - val_loss: 1.0029 - val_accuracy: 0.6317\n",
      "Epoch 46/50\n",
      "75/75 [==============================] - 3s 37ms/step - loss: 0.6894 - accuracy: 0.5367 - val_loss: 1.0050 - val_accuracy: 0.6283\n",
      "Epoch 47/50\n",
      "75/75 [==============================] - 3s 37ms/step - loss: 0.6892 - accuracy: 0.5329 - val_loss: 1.0162 - val_accuracy: 0.6250\n",
      "Epoch 48/50\n",
      "75/75 [==============================] - 3s 37ms/step - loss: 0.6893 - accuracy: 0.5296 - val_loss: 0.9553 - val_accuracy: 0.6400\n",
      "Epoch 49/50\n",
      "75/75 [==============================] - 3s 37ms/step - loss: 0.6890 - accuracy: 0.5325 - val_loss: 0.9979 - val_accuracy: 0.6267\n",
      "Epoch 50/50\n",
      "75/75 [==============================] - 3s 37ms/step - loss: 0.6892 - accuracy: 0.5292 - val_loss: 0.9314 - val_accuracy: 0.6450\n"
     ]
    },
    {
     "data": {
      "text/plain": "<keras.callbacks.History at 0x3d9df3f40>"
     },
     "execution_count": 67,
     "metadata": {},
     "output_type": "execute_result"
    }
   ],
   "source": [
    "model.fit(\n",
    "    normalized_ds,\n",
    "    validation_data=val_ds,\n",
    "    epochs=50\n",
    ")"
   ],
   "metadata": {
    "collapsed": false
   }
  },
  {
   "cell_type": "markdown",
   "source": [
    "# MobileNet"
   ],
   "metadata": {
    "collapsed": false
   }
  },
  {
   "cell_type": "code",
   "execution_count": 68,
   "outputs": [],
   "source": [
    "modelnet = tf.keras.applications.MobileNetV2(input_shape=(224, 224, 3),\n",
    "                                             include_top=False,\n",
    "                                             weights='imagenet')"
   ],
   "metadata": {
    "collapsed": false
   }
  },
  {
   "cell_type": "code",
   "execution_count": 69,
   "outputs": [],
   "source": [
    "modelnet.trainable = False"
   ],
   "metadata": {
    "collapsed": false
   }
  },
  {
   "cell_type": "code",
   "execution_count": 75,
   "outputs": [],
   "source": [
    "model = tf.keras.Sequential([\n",
    "    modelnet,\n",
    "    tf.keras.layers.GlobalAveragePooling2D(),\n",
    "    tf.keras.layers.Dropout(0.4),\n",
    "    tf.keras.layers.Dense(1, activation=\"sigmoid\")\n",
    "])"
   ],
   "metadata": {
    "collapsed": false
   }
  },
  {
   "cell_type": "code",
   "execution_count": 76,
   "outputs": [],
   "source": [
    "late = .0001"
   ],
   "metadata": {
    "collapsed": false
   }
  },
  {
   "cell_type": "code",
   "execution_count": 78,
   "outputs": [
    {
     "name": "stdout",
     "output_type": "stream",
     "text": [
      "Epoch 1/50\n"
     ]
    },
    {
     "name": "stderr",
     "output_type": "stream",
     "text": [
      "2023-04-14 15:21:07.904460: I tensorflow/core/grappler/optimizers/custom_graph_optimizer_registry.cc:113] Plugin optimizer for device_type GPU is enabled.\n"
     ]
    },
    {
     "name": "stdout",
     "output_type": "stream",
     "text": [
      "75/75 [==============================] - ETA: 0s - loss: 0.9456 - accuracy: 0.5263"
     ]
    },
    {
     "name": "stderr",
     "output_type": "stream",
     "text": [
      "2023-04-14 15:21:11.172985: I tensorflow/core/grappler/optimizers/custom_graph_optimizer_registry.cc:113] Plugin optimizer for device_type GPU is enabled.\n"
     ]
    },
    {
     "name": "stdout",
     "output_type": "stream",
     "text": [
      "75/75 [==============================] - 6s 58ms/step - loss: 0.9456 - accuracy: 0.5263 - val_loss: 0.6869 - val_accuracy: 0.5833\n",
      "Epoch 2/50\n",
      "75/75 [==============================] - 3s 35ms/step - loss: 0.9019 - accuracy: 0.5492 - val_loss: 0.6675 - val_accuracy: 0.6117\n",
      "Epoch 3/50\n",
      "75/75 [==============================] - 2s 33ms/step - loss: 0.8670 - accuracy: 0.5717 - val_loss: 0.6522 - val_accuracy: 0.6450\n",
      "Epoch 4/50\n",
      "75/75 [==============================] - 2s 33ms/step - loss: 0.8376 - accuracy: 0.5929 - val_loss: 0.6399 - val_accuracy: 0.6550\n",
      "Epoch 5/50\n",
      "75/75 [==============================] - 3s 39ms/step - loss: 0.8126 - accuracy: 0.6092 - val_loss: 0.6299 - val_accuracy: 0.6650\n",
      "Epoch 6/50\n",
      "75/75 [==============================] - 3s 37ms/step - loss: 0.7911 - accuracy: 0.6221 - val_loss: 0.6216 - val_accuracy: 0.6733\n",
      "Epoch 7/50\n",
      "75/75 [==============================] - 3s 37ms/step - loss: 0.7723 - accuracy: 0.6346 - val_loss: 0.6147 - val_accuracy: 0.6817\n",
      "Epoch 8/50\n",
      "75/75 [==============================] - 3s 37ms/step - loss: 0.7555 - accuracy: 0.6475 - val_loss: 0.6088 - val_accuracy: 0.6817\n",
      "Epoch 9/50\n",
      "75/75 [==============================] - 3s 37ms/step - loss: 0.7403 - accuracy: 0.6567 - val_loss: 0.6037 - val_accuracy: 0.6833\n",
      "Epoch 10/50\n",
      "75/75 [==============================] - 3s 38ms/step - loss: 0.7264 - accuracy: 0.6612 - val_loss: 0.5993 - val_accuracy: 0.6867\n",
      "Epoch 11/50\n",
      "75/75 [==============================] - 3s 38ms/step - loss: 0.7135 - accuracy: 0.6692 - val_loss: 0.5954 - val_accuracy: 0.6883\n",
      "Epoch 12/50\n",
      "75/75 [==============================] - 3s 37ms/step - loss: 0.7014 - accuracy: 0.6775 - val_loss: 0.5921 - val_accuracy: 0.6917\n",
      "Epoch 13/50\n",
      "75/75 [==============================] - 3s 38ms/step - loss: 0.6901 - accuracy: 0.6846 - val_loss: 0.5891 - val_accuracy: 0.6917\n",
      "Epoch 14/50\n",
      "75/75 [==============================] - 3s 37ms/step - loss: 0.6792 - accuracy: 0.6879 - val_loss: 0.5864 - val_accuracy: 0.6917\n",
      "Epoch 15/50\n",
      "75/75 [==============================] - 3s 38ms/step - loss: 0.6689 - accuracy: 0.6913 - val_loss: 0.5840 - val_accuracy: 0.6917\n",
      "Epoch 16/50\n",
      "75/75 [==============================] - 3s 38ms/step - loss: 0.6590 - accuracy: 0.6967 - val_loss: 0.5819 - val_accuracy: 0.6983\n",
      "Epoch 17/50\n",
      "75/75 [==============================] - 3s 38ms/step - loss: 0.6494 - accuracy: 0.7029 - val_loss: 0.5799 - val_accuracy: 0.7017\n",
      "Epoch 18/50\n",
      "75/75 [==============================] - 3s 39ms/step - loss: 0.6401 - accuracy: 0.7075 - val_loss: 0.5782 - val_accuracy: 0.7033\n",
      "Epoch 19/50\n",
      "75/75 [==============================] - 3s 38ms/step - loss: 0.6311 - accuracy: 0.7138 - val_loss: 0.5767 - val_accuracy: 0.6983\n",
      "Epoch 20/50\n",
      "75/75 [==============================] - 3s 38ms/step - loss: 0.6224 - accuracy: 0.7183 - val_loss: 0.5753 - val_accuracy: 0.6983\n",
      "Epoch 21/50\n",
      "75/75 [==============================] - 3s 38ms/step - loss: 0.6139 - accuracy: 0.7192 - val_loss: 0.5740 - val_accuracy: 0.6950\n",
      "Epoch 22/50\n",
      "75/75 [==============================] - 3s 38ms/step - loss: 0.6056 - accuracy: 0.7212 - val_loss: 0.5729 - val_accuracy: 0.6967\n",
      "Epoch 23/50\n",
      "75/75 [==============================] - 3s 38ms/step - loss: 0.5975 - accuracy: 0.7254 - val_loss: 0.5718 - val_accuracy: 0.6967\n",
      "Epoch 24/50\n",
      "75/75 [==============================] - 3s 38ms/step - loss: 0.5897 - accuracy: 0.7254 - val_loss: 0.5709 - val_accuracy: 0.6967\n",
      "Epoch 25/50\n",
      "75/75 [==============================] - 3s 38ms/step - loss: 0.5821 - accuracy: 0.7275 - val_loss: 0.5700 - val_accuracy: 0.6983\n",
      "Epoch 26/50\n",
      "75/75 [==============================] - 3s 39ms/step - loss: 0.5747 - accuracy: 0.7321 - val_loss: 0.5692 - val_accuracy: 0.7017\n",
      "Epoch 27/50\n",
      "75/75 [==============================] - 3s 39ms/step - loss: 0.5676 - accuracy: 0.7358 - val_loss: 0.5685 - val_accuracy: 0.7017\n",
      "Epoch 28/50\n",
      "75/75 [==============================] - 3s 39ms/step - loss: 0.5609 - accuracy: 0.7379 - val_loss: 0.5679 - val_accuracy: 0.7017\n",
      "Epoch 29/50\n",
      "75/75 [==============================] - 3s 39ms/step - loss: 0.5544 - accuracy: 0.7396 - val_loss: 0.5672 - val_accuracy: 0.7100\n",
      "Epoch 30/50\n",
      "75/75 [==============================] - 3s 39ms/step - loss: 0.5483 - accuracy: 0.7413 - val_loss: 0.5666 - val_accuracy: 0.7083\n",
      "Epoch 31/50\n",
      "75/75 [==============================] - 3s 39ms/step - loss: 0.5425 - accuracy: 0.7438 - val_loss: 0.5661 - val_accuracy: 0.7083\n",
      "Epoch 32/50\n",
      "75/75 [==============================] - 3s 39ms/step - loss: 0.5372 - accuracy: 0.7450 - val_loss: 0.5655 - val_accuracy: 0.7083\n",
      "Epoch 33/50\n",
      "75/75 [==============================] - 3s 39ms/step - loss: 0.5322 - accuracy: 0.7467 - val_loss: 0.5650 - val_accuracy: 0.7100\n",
      "Epoch 34/50\n",
      "75/75 [==============================] - 3s 39ms/step - loss: 0.5277 - accuracy: 0.7471 - val_loss: 0.5645 - val_accuracy: 0.7117\n",
      "Epoch 35/50\n",
      "75/75 [==============================] - 3s 39ms/step - loss: 0.5235 - accuracy: 0.7492 - val_loss: 0.5641 - val_accuracy: 0.7117\n",
      "Epoch 36/50\n",
      "75/75 [==============================] - 3s 39ms/step - loss: 0.5197 - accuracy: 0.7508 - val_loss: 0.5636 - val_accuracy: 0.7150\n",
      "Epoch 37/50\n",
      "75/75 [==============================] - 3s 39ms/step - loss: 0.5162 - accuracy: 0.7513 - val_loss: 0.5632 - val_accuracy: 0.7167\n",
      "Epoch 38/50\n",
      "75/75 [==============================] - 3s 39ms/step - loss: 0.5130 - accuracy: 0.7542 - val_loss: 0.5628 - val_accuracy: 0.7167\n",
      "Epoch 39/50\n",
      "75/75 [==============================] - 3s 39ms/step - loss: 0.5101 - accuracy: 0.7554 - val_loss: 0.5625 - val_accuracy: 0.7167\n",
      "Epoch 40/50\n",
      "75/75 [==============================] - 3s 39ms/step - loss: 0.5074 - accuracy: 0.7550 - val_loss: 0.5621 - val_accuracy: 0.7183\n",
      "Epoch 41/50\n",
      "75/75 [==============================] - 3s 39ms/step - loss: 0.5049 - accuracy: 0.7592 - val_loss: 0.5618 - val_accuracy: 0.7183\n",
      "Epoch 42/50\n",
      "75/75 [==============================] - 3s 39ms/step - loss: 0.5026 - accuracy: 0.7604 - val_loss: 0.5615 - val_accuracy: 0.7183\n",
      "Epoch 43/50\n",
      "75/75 [==============================] - 3s 39ms/step - loss: 0.5004 - accuracy: 0.7617 - val_loss: 0.5612 - val_accuracy: 0.7200\n",
      "Epoch 44/50\n",
      "75/75 [==============================] - 3s 39ms/step - loss: 0.4984 - accuracy: 0.7629 - val_loss: 0.5609 - val_accuracy: 0.7200\n",
      "Epoch 45/50\n",
      "75/75 [==============================] - 3s 39ms/step - loss: 0.4965 - accuracy: 0.7633 - val_loss: 0.5607 - val_accuracy: 0.7200\n",
      "Epoch 46/50\n",
      "75/75 [==============================] - 3s 39ms/step - loss: 0.4946 - accuracy: 0.7638 - val_loss: 0.5604 - val_accuracy: 0.7183\n",
      "Epoch 47/50\n",
      "75/75 [==============================] - 3s 39ms/step - loss: 0.4929 - accuracy: 0.7671 - val_loss: 0.5602 - val_accuracy: 0.7183\n",
      "Epoch 48/50\n",
      "75/75 [==============================] - 3s 39ms/step - loss: 0.4912 - accuracy: 0.7688 - val_loss: 0.5600 - val_accuracy: 0.7200\n",
      "Epoch 49/50\n",
      "75/75 [==============================] - 3s 39ms/step - loss: 0.4896 - accuracy: 0.7692 - val_loss: 0.5598 - val_accuracy: 0.7200\n",
      "Epoch 50/50\n",
      "75/75 [==============================] - 3s 39ms/step - loss: 0.4880 - accuracy: 0.7721 - val_loss: 0.5596 - val_accuracy: 0.7217\n"
     ]
    },
    {
     "data": {
      "text/plain": "<keras.callbacks.History at 0x2f8326fd0>"
     },
     "execution_count": 78,
     "metadata": {},
     "output_type": "execute_result"
    }
   ],
   "source": [
    "model.compile(optimizer=tf.keras.optimizers.Adam(learning_rate=0.0001),\n",
    "              loss=tf.keras.losses.BinaryCrossentropy(from_logits=True),\n",
    "              metrics=['accuracy'])\n",
    "model.fit(\n",
    "    train_ds,\n",
    "    validation_data=val_ds,\n",
    "    epochs=50,\n",
    ")"
   ],
   "metadata": {
    "collapsed": false
   }
  },
  {
   "cell_type": "code",
   "execution_count": null,
   "outputs": [],
   "source": [],
   "metadata": {
    "collapsed": false
   }
  }
 ],
 "metadata": {
  "kernelspec": {
   "display_name": "Python 3",
   "language": "python",
   "name": "python3"
  },
  "language_info": {
   "codemirror_mode": {
    "name": "ipython",
    "version": 2
   },
   "file_extension": ".py",
   "mimetype": "text/x-python",
   "name": "python",
   "nbconvert_exporter": "python",
   "pygments_lexer": "ipython2",
   "version": "2.7.6"
  }
 },
 "nbformat": 4,
 "nbformat_minor": 0
}
